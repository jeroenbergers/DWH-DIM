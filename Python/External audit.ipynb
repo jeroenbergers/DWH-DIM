{
 "cells": [
  {
   "cell_type": "code",
   "execution_count": null,
   "id": "949a6716",
   "metadata": {},
   "outputs": [],
   "source": [
    "import requests\n",
    "import json"
   ]
  },
  {
   "cell_type": "markdown",
   "id": "5b7fbbc2",
   "metadata": {},
   "source": [
    "Settings:"
   ]
  },
  {
   "cell_type": "code",
   "execution_count": null,
   "id": "81ea9adf",
   "metadata": {},
   "outputs": [],
   "source": [
    "username = \"Auditor\"\n",
    "organisation = \"Org1\"\n",
    "certificate_id = \"1\""
   ]
  },
  {
   "cell_type": "markdown",
   "id": "caf2a18b",
   "metadata": {},
   "source": [
    "Add users:"
   ]
  },
  {
   "cell_type": "code",
   "execution_count": null,
   "id": "4601d58b",
   "metadata": {},
   "outputs": [],
   "source": [
    "t = add_user(username, organisation)"
   ]
  },
  {
   "cell_type": "markdown",
   "id": "cfef4a1d",
   "metadata": {},
   "source": [
    "Search certificate"
   ]
  },
  {
   "cell_type": "code",
   "execution_count": null,
   "id": "a659b753",
   "metadata": {},
   "outputs": [],
   "source": [
    "search_certificate(certificate_id, t).text"
   ]
  },
  {
   "cell_type": "code",
   "execution_count": null,
   "id": "483c66fb",
   "metadata": {},
   "outputs": [],
   "source": [
    "def search_certificate(certificate_id, t):\n",
    "    URL = \"http://localhost:4000/channels/mychannel/chaincodes/integrityCertificate?args=[\"+certificate_id+\"]&fcn=queryById\"\n",
    "    r = requests.get(url = URL, headers=headers)\n",
    "    return(r)"
   ]
  }
 ],
 "metadata": {
  "kernelspec": {
   "display_name": "Python 3",
   "language": "python",
   "name": "python3"
  },
  "language_info": {
   "codemirror_mode": {
    "name": "ipython",
    "version": 3
   },
   "file_extension": ".py",
   "mimetype": "text/x-python",
   "name": "python",
   "nbconvert_exporter": "python",
   "pygments_lexer": "ipython3",
   "version": "3.8.10"
  }
 },
 "nbformat": 4,
 "nbformat_minor": 5
}
